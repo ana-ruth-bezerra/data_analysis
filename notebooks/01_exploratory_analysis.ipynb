{
 "cells": [
  {
   "cell_type": "markdown",
   "id": "8046de01-5b1f-433f-ac65-340b77a15410",
   "metadata": {},
   "source": [
    "# Análise Exploratória e Preditiva de Dados - Desafio\n",
    "\n",
    "## 1. Introdução\n",
    "\n",
    "Este notebook apresenta a análise exploratória do dataset `dados_desafio.xlsx`, com o objetivo de compreender a estrutura dos dados, identificar padrões, possíveis problemas e preparar o caminho para etapas futuras de modelagem"
   ]
  },
  {
   "cell_type": "code",
   "execution_count": 1,
   "id": "64e77fa7-0a28-41ac-aa4a-1d47d89edea7",
   "metadata": {},
   "outputs": [],
   "source": [
    "import pandas as pd\n",
    "import numpy as np\n",
    "import matplotlib.pyplot as plt\n",
    "import seaborn as sns\n",
    "import warnings\n",
    "\n",
    "pd.set_option('display.max_columns', None)\n",
    "pd.set_option('display.max_rows', None)\n",
    "pd.options.display.float_format = '{:,.2f}'.format\n",
    "warnings.filterwarnings('ignore')"
   ]
  },
  {
   "cell_type": "markdown",
   "id": "219be1c2-19a6-442a-ae5b-03f9dc08d15c",
   "metadata": {},
   "source": [
    "## 2. Carregamento dos Dados\n",
    "\n",
    "Os dados foram carregados a partir de um arquivo Excel utilizando a biblioteca `pandas`"
   ]
  },
  {
   "cell_type": "code",
   "execution_count": 2,
   "id": "1e52abe9-3cff-40ef-b53f-1eb2ec07391e",
   "metadata": {},
   "outputs": [],
   "source": [
    "df = pd.read_excel(\"../data/dados_desafio.xlsx\")"
   ]
  },
  {
   "cell_type": "markdown",
   "id": "36cb82e8-036f-4a18-a901-341bc23908fd",
   "metadata": {},
   "source": [
    "## 3. Análise Inicial"
   ]
  },
  {
   "cell_type": "markdown",
   "id": "883345f3-1724-4cdf-b5b6-66f3e86090be",
   "metadata": {},
   "source": [
    "- Análise das primeiras linhas do dataframe"
   ]
  },
  {
   "cell_type": "code",
   "execution_count": 3,
   "id": "55466aed-47ce-4693-a1d1-8d2b4e26b264",
   "metadata": {},
   "outputs": [
    {
     "data": {
      "text/html": [
       "<div>\n",
       "<style scoped>\n",
       "    .dataframe tbody tr th:only-of-type {\n",
       "        vertical-align: middle;\n",
       "    }\n",
       "\n",
       "    .dataframe tbody tr th {\n",
       "        vertical-align: top;\n",
       "    }\n",
       "\n",
       "    .dataframe thead th {\n",
       "        text-align: right;\n",
       "    }\n",
       "</style>\n",
       "<table border=\"1\" class=\"dataframe\">\n",
       "  <thead>\n",
       "    <tr style=\"text-align: right;\">\n",
       "      <th></th>\n",
       "      <th>id_pedido</th>\n",
       "      <th>tipo_pagamento</th>\n",
       "      <th>prestacoes</th>\n",
       "      <th>valor_pagamento</th>\n",
       "      <th>id_cliente</th>\n",
       "      <th>status_pedido</th>\n",
       "      <th>data_hora_pedido</th>\n",
       "      <th>pedido_aprovado</th>\n",
       "      <th>pedido_com_entregador</th>\n",
       "      <th>pedido_entregue</th>\n",
       "      <th>tempo_entregue_estimado</th>\n",
       "      <th>id_avaliacao</th>\n",
       "      <th>score_avaliacao</th>\n",
       "      <th>data_avaliacao</th>\n",
       "      <th>data_resposta_avaliacao</th>\n",
       "      <th>id_item</th>\n",
       "      <th>id_vendedor</th>\n",
       "      <th>data_limite_entrega</th>\n",
       "      <th>preco</th>\n",
       "      <th>valor_frete</th>\n",
       "      <th>categoria_produto</th>\n",
       "      <th>peso_produto</th>\n",
       "      <th>comprimento_produto</th>\n",
       "      <th>altura_produto</th>\n",
       "      <th>largura_produto</th>\n",
       "      <th>cep_vendedor</th>\n",
       "      <th>cidade_vendedor</th>\n",
       "      <th>estado_vendedor</th>\n",
       "      <th>id_unica_cliente</th>\n",
       "      <th>cep_cliente</th>\n",
       "      <th>cidade_cliente</th>\n",
       "      <th>estado_cliente</th>\n",
       "    </tr>\n",
       "  </thead>\n",
       "  <tbody>\n",
       "    <tr>\n",
       "      <th>0</th>\n",
       "      <td>05d5a67b06f86425711075939a164657</td>\n",
       "      <td>credit_card</td>\n",
       "      <td>1</td>\n",
       "      <td>18.38</td>\n",
       "      <td>716c95338343be76a421f05145f6d9b7</td>\n",
       "      <td>delivered</td>\n",
       "      <td>2017-10-24 09:17:09.000</td>\n",
       "      <td>2017-10-24 09:28:15.000</td>\n",
       "      <td>2017-10-25 22:45:59.000</td>\n",
       "      <td>2017-10-26 14:13:59.000</td>\n",
       "      <td>2017-11-06</td>\n",
       "      <td>5064d6d99510e06a10487f7773f79060</td>\n",
       "      <td>4</td>\n",
       "      <td>2017-10-27</td>\n",
       "      <td>2017-10-27 17:13:20.000</td>\n",
       "      <td>2a592642399b33baf3a5729a6335b21c</td>\n",
       "      <td>b83cedfb587e7911540e3f576d6917ce</td>\n",
       "      <td>2017-10-30 09:28:15.000</td>\n",
       "      <td>9.99</td>\n",
       "      <td>7.78</td>\n",
       "      <td>perfumaria</td>\n",
       "      <td>100.00</td>\n",
       "      <td>16.00</td>\n",
       "      <td>7.00</td>\n",
       "      <td>12.00</td>\n",
       "      <td>4870</td>\n",
       "      <td>sao paulo</td>\n",
       "      <td>SP</td>\n",
       "      <td>b4acaca510f847f9927914b51f9b0874</td>\n",
       "      <td>9861</td>\n",
       "      <td>sao bernardo do campo</td>\n",
       "      <td>SP</td>\n",
       "    </tr>\n",
       "    <tr>\n",
       "      <th>1</th>\n",
       "      <td>b1f9820e61b6a6a7643c961eaf4f217d</td>\n",
       "      <td>credit_card</td>\n",
       "      <td>1</td>\n",
       "      <td>28.23</td>\n",
       "      <td>6e550daa4d9d07414a598ee4682289a0</td>\n",
       "      <td>delivered</td>\n",
       "      <td>2018-04-09 18:06:35.971</td>\n",
       "      <td>2018-04-09 18:31:35.962</td>\n",
       "      <td>2018-04-10 19:24:56.995</td>\n",
       "      <td>2018-04-16 18:05:41.971</td>\n",
       "      <td>2018-05-07</td>\n",
       "      <td>f86e7499e15b26ac97f22354ef917bd1</td>\n",
       "      <td>5</td>\n",
       "      <td>2018-04-17</td>\n",
       "      <td>2018-04-18 12:46:56.986</td>\n",
       "      <td>499a1638595575721fec87dbaa05f339</td>\n",
       "      <td>25cf099de44674fde97473224f9d59ab</td>\n",
       "      <td>2018-04-13 18:31:31.987</td>\n",
       "      <td>10.00</td>\n",
       "      <td>18.23</td>\n",
       "      <td>automotivo</td>\n",
       "      <td>350.00</td>\n",
       "      <td>20.00</td>\n",
       "      <td>15.00</td>\n",
       "      <td>15.00</td>\n",
       "      <td>6716</td>\n",
       "      <td>cotia</td>\n",
       "      <td>SP</td>\n",
       "      <td>9abf4d8d20ca191ce59eb6227cf53d6d</td>\n",
       "      <td>38270</td>\n",
       "      <td>campina verde</td>\n",
       "      <td>MG</td>\n",
       "    </tr>\n",
       "    <tr>\n",
       "      <th>2</th>\n",
       "      <td>b27f6a3ed9bfe29879c912b10bcf081b</td>\n",
       "      <td>credit_card</td>\n",
       "      <td>9</td>\n",
       "      <td>92.57</td>\n",
       "      <td>dd774d127953e12f6953a9d36e6a3cc4</td>\n",
       "      <td>delivered</td>\n",
       "      <td>2018-01-02 20:32:35.981</td>\n",
       "      <td>2018-01-02 20:50:16.022</td>\n",
       "      <td>2018-01-08 12:32:48.019</td>\n",
       "      <td>2018-01-16 20:52:39.014</td>\n",
       "      <td>2018-01-24</td>\n",
       "      <td>a5fc2433140223de219d3fcfc548f3ff</td>\n",
       "      <td>4</td>\n",
       "      <td>2018-01-17</td>\n",
       "      <td>2018-01-22 10:00:16.963</td>\n",
       "      <td>fb55982be901439613a95940feefd9ee</td>\n",
       "      <td>3d871de0142ce09b7081e2b9d1733cb1</td>\n",
       "      <td>2018-01-08 20:50:16.022</td>\n",
       "      <td>79.00</td>\n",
       "      <td>13.57</td>\n",
       "      <td>papelaria</td>\n",
       "      <td>7,000.00</td>\n",
       "      <td>60.00</td>\n",
       "      <td>20.00</td>\n",
       "      <td>30.00</td>\n",
       "      <td>13232</td>\n",
       "      <td>campo limpo paulista</td>\n",
       "      <td>SP</td>\n",
       "      <td>dc446a1ea0c8cc3eb1cd31896f6cf00f</td>\n",
       "      <td>12919</td>\n",
       "      <td>braganca paulista</td>\n",
       "      <td>SP</td>\n",
       "    </tr>\n",
       "    <tr>\n",
       "      <th>3</th>\n",
       "      <td>a182c021b0561e70031de925b3991fb3</td>\n",
       "      <td>credit_card</td>\n",
       "      <td>4</td>\n",
       "      <td>176.99</td>\n",
       "      <td>1d93c38087f43927ad29cdbd73a1a01b</td>\n",
       "      <td>delivered</td>\n",
       "      <td>2018-04-02 20:25:56.035</td>\n",
       "      <td>2018-04-02 20:35:17.030</td>\n",
       "      <td>2018-04-04 18:13:12.029</td>\n",
       "      <td>2018-04-11 11:14:30.970</td>\n",
       "      <td>2018-04-25</td>\n",
       "      <td>bdd2176b8d0ed0d5414dc07547720dd2</td>\n",
       "      <td>5</td>\n",
       "      <td>2018-04-12</td>\n",
       "      <td>2018-04-16 12:09:10.022</td>\n",
       "      <td>6f3b5b605d91b7439c5e3f5a8dffeea7</td>\n",
       "      <td>4869f7a5dfa277a7dca6462dcf3b52b2</td>\n",
       "      <td>2018-04-06 20:35:17.030</td>\n",
       "      <td>158.00</td>\n",
       "      <td>18.99</td>\n",
       "      <td>relogios_presentes</td>\n",
       "      <td>335.00</td>\n",
       "      <td>17.00</td>\n",
       "      <td>11.00</td>\n",
       "      <td>16.00</td>\n",
       "      <td>14840</td>\n",
       "      <td>guariba</td>\n",
       "      <td>SP</td>\n",
       "      <td>14691264ea396cd3bd71ebbe36bc6771</td>\n",
       "      <td>29278</td>\n",
       "      <td>arace</td>\n",
       "      <td>ES</td>\n",
       "    </tr>\n",
       "    <tr>\n",
       "      <th>4</th>\n",
       "      <td>8e76f4ac6aee1d6013e40279de68a7cf</td>\n",
       "      <td>credit_card</td>\n",
       "      <td>10</td>\n",
       "      <td>110.56</td>\n",
       "      <td>e085989aa21e36b90469d6940aefe23c</td>\n",
       "      <td>delivered</td>\n",
       "      <td>2017-08-05 17:52:44.026</td>\n",
       "      <td>2017-08-05 18:10:09.034</td>\n",
       "      <td>2017-08-07 17:39:02.966</td>\n",
       "      <td>2017-08-15 19:59:47.962</td>\n",
       "      <td>2017-08-31</td>\n",
       "      <td>44b50a1399e3b7c7b553984d2151fbc4</td>\n",
       "      <td>4</td>\n",
       "      <td>2017-08-16</td>\n",
       "      <td>2017-08-17 00:34:48.979</td>\n",
       "      <td>8cbd33515c33f6bc2042660baff504b5</td>\n",
       "      <td>cca3071e3e9bb7d12640c9fbe2301306</td>\n",
       "      <td>2017-08-10 18:10:09.034</td>\n",
       "      <td>40.18</td>\n",
       "      <td>15.10</td>\n",
       "      <td>moveis_decoracao</td>\n",
       "      <td>650.00</td>\n",
       "      <td>50.00</td>\n",
       "      <td>7.00</td>\n",
       "      <td>33.00</td>\n",
       "      <td>14940</td>\n",
       "      <td>ibitinga</td>\n",
       "      <td>SP</td>\n",
       "      <td>06c211500493e0aa2c584346c15a1d81</td>\n",
       "      <td>95770</td>\n",
       "      <td>feliz</td>\n",
       "      <td>RS</td>\n",
       "    </tr>\n",
       "  </tbody>\n",
       "</table>\n",
       "</div>"
      ],
      "text/plain": [
       "                          id_pedido tipo_pagamento  prestacoes  \\\n",
       "0  05d5a67b06f86425711075939a164657    credit_card           1   \n",
       "1  b1f9820e61b6a6a7643c961eaf4f217d    credit_card           1   \n",
       "2  b27f6a3ed9bfe29879c912b10bcf081b    credit_card           9   \n",
       "3  a182c021b0561e70031de925b3991fb3    credit_card           4   \n",
       "4  8e76f4ac6aee1d6013e40279de68a7cf    credit_card          10   \n",
       "\n",
       "   valor_pagamento                        id_cliente status_pedido  \\\n",
       "0            18.38  716c95338343be76a421f05145f6d9b7     delivered   \n",
       "1            28.23  6e550daa4d9d07414a598ee4682289a0     delivered   \n",
       "2            92.57  dd774d127953e12f6953a9d36e6a3cc4     delivered   \n",
       "3           176.99  1d93c38087f43927ad29cdbd73a1a01b     delivered   \n",
       "4           110.56  e085989aa21e36b90469d6940aefe23c     delivered   \n",
       "\n",
       "         data_hora_pedido         pedido_aprovado   pedido_com_entregador  \\\n",
       "0 2017-10-24 09:17:09.000 2017-10-24 09:28:15.000 2017-10-25 22:45:59.000   \n",
       "1 2018-04-09 18:06:35.971 2018-04-09 18:31:35.962 2018-04-10 19:24:56.995   \n",
       "2 2018-01-02 20:32:35.981 2018-01-02 20:50:16.022 2018-01-08 12:32:48.019   \n",
       "3 2018-04-02 20:25:56.035 2018-04-02 20:35:17.030 2018-04-04 18:13:12.029   \n",
       "4 2017-08-05 17:52:44.026 2017-08-05 18:10:09.034 2017-08-07 17:39:02.966   \n",
       "\n",
       "          pedido_entregue tempo_entregue_estimado  \\\n",
       "0 2017-10-26 14:13:59.000              2017-11-06   \n",
       "1 2018-04-16 18:05:41.971              2018-05-07   \n",
       "2 2018-01-16 20:52:39.014              2018-01-24   \n",
       "3 2018-04-11 11:14:30.970              2018-04-25   \n",
       "4 2017-08-15 19:59:47.962              2017-08-31   \n",
       "\n",
       "                       id_avaliacao  score_avaliacao data_avaliacao  \\\n",
       "0  5064d6d99510e06a10487f7773f79060                4     2017-10-27   \n",
       "1  f86e7499e15b26ac97f22354ef917bd1                5     2018-04-17   \n",
       "2  a5fc2433140223de219d3fcfc548f3ff                4     2018-01-17   \n",
       "3  bdd2176b8d0ed0d5414dc07547720dd2                5     2018-04-12   \n",
       "4  44b50a1399e3b7c7b553984d2151fbc4                4     2017-08-16   \n",
       "\n",
       "  data_resposta_avaliacao                           id_item  \\\n",
       "0 2017-10-27 17:13:20.000  2a592642399b33baf3a5729a6335b21c   \n",
       "1 2018-04-18 12:46:56.986  499a1638595575721fec87dbaa05f339   \n",
       "2 2018-01-22 10:00:16.963  fb55982be901439613a95940feefd9ee   \n",
       "3 2018-04-16 12:09:10.022  6f3b5b605d91b7439c5e3f5a8dffeea7   \n",
       "4 2017-08-17 00:34:48.979  8cbd33515c33f6bc2042660baff504b5   \n",
       "\n",
       "                        id_vendedor     data_limite_entrega  preco  \\\n",
       "0  b83cedfb587e7911540e3f576d6917ce 2017-10-30 09:28:15.000   9.99   \n",
       "1  25cf099de44674fde97473224f9d59ab 2018-04-13 18:31:31.987  10.00   \n",
       "2  3d871de0142ce09b7081e2b9d1733cb1 2018-01-08 20:50:16.022  79.00   \n",
       "3  4869f7a5dfa277a7dca6462dcf3b52b2 2018-04-06 20:35:17.030 158.00   \n",
       "4  cca3071e3e9bb7d12640c9fbe2301306 2017-08-10 18:10:09.034  40.18   \n",
       "\n",
       "   valor_frete   categoria_produto  peso_produto  comprimento_produto  \\\n",
       "0         7.78          perfumaria        100.00                16.00   \n",
       "1        18.23          automotivo        350.00                20.00   \n",
       "2        13.57           papelaria      7,000.00                60.00   \n",
       "3        18.99  relogios_presentes        335.00                17.00   \n",
       "4        15.10    moveis_decoracao        650.00                50.00   \n",
       "\n",
       "   altura_produto  largura_produto  cep_vendedor       cidade_vendedor  \\\n",
       "0            7.00            12.00          4870             sao paulo   \n",
       "1           15.00            15.00          6716                 cotia   \n",
       "2           20.00            30.00         13232  campo limpo paulista   \n",
       "3           11.00            16.00         14840               guariba   \n",
       "4            7.00            33.00         14940              ibitinga   \n",
       "\n",
       "  estado_vendedor                  id_unica_cliente  cep_cliente  \\\n",
       "0              SP  b4acaca510f847f9927914b51f9b0874         9861   \n",
       "1              SP  9abf4d8d20ca191ce59eb6227cf53d6d        38270   \n",
       "2              SP  dc446a1ea0c8cc3eb1cd31896f6cf00f        12919   \n",
       "3              SP  14691264ea396cd3bd71ebbe36bc6771        29278   \n",
       "4              SP  06c211500493e0aa2c584346c15a1d81        95770   \n",
       "\n",
       "          cidade_cliente estado_cliente  \n",
       "0  sao bernardo do campo             SP  \n",
       "1          campina verde             MG  \n",
       "2      braganca paulista             SP  \n",
       "3                  arace             ES  \n",
       "4                  feliz             RS  "
      ]
     },
     "execution_count": 3,
     "metadata": {},
     "output_type": "execute_result"
    }
   ],
   "source": [
    "df.head()"
   ]
  },
  {
   "cell_type": "markdown",
   "id": "e0ea6a3a-a215-4dcc-91a9-7eb1965e1556",
   "metadata": {},
   "source": [
    "- Análise das últimas linhas do dataframe"
   ]
  },
  {
   "cell_type": "code",
   "execution_count": 4,
   "id": "d2ccbb73-2874-444f-b1b0-b743fb084d4e",
   "metadata": {},
   "outputs": [
    {
     "data": {
      "text/html": [
       "<div>\n",
       "<style scoped>\n",
       "    .dataframe tbody tr th:only-of-type {\n",
       "        vertical-align: middle;\n",
       "    }\n",
       "\n",
       "    .dataframe tbody tr th {\n",
       "        vertical-align: top;\n",
       "    }\n",
       "\n",
       "    .dataframe thead th {\n",
       "        text-align: right;\n",
       "    }\n",
       "</style>\n",
       "<table border=\"1\" class=\"dataframe\">\n",
       "  <thead>\n",
       "    <tr style=\"text-align: right;\">\n",
       "      <th></th>\n",
       "      <th>id_pedido</th>\n",
       "      <th>tipo_pagamento</th>\n",
       "      <th>prestacoes</th>\n",
       "      <th>valor_pagamento</th>\n",
       "      <th>id_cliente</th>\n",
       "      <th>status_pedido</th>\n",
       "      <th>data_hora_pedido</th>\n",
       "      <th>pedido_aprovado</th>\n",
       "      <th>pedido_com_entregador</th>\n",
       "      <th>pedido_entregue</th>\n",
       "      <th>tempo_entregue_estimado</th>\n",
       "      <th>id_avaliacao</th>\n",
       "      <th>score_avaliacao</th>\n",
       "      <th>data_avaliacao</th>\n",
       "      <th>data_resposta_avaliacao</th>\n",
       "      <th>id_item</th>\n",
       "      <th>id_vendedor</th>\n",
       "      <th>data_limite_entrega</th>\n",
       "      <th>preco</th>\n",
       "      <th>valor_frete</th>\n",
       "      <th>categoria_produto</th>\n",
       "      <th>peso_produto</th>\n",
       "      <th>comprimento_produto</th>\n",
       "      <th>altura_produto</th>\n",
       "      <th>largura_produto</th>\n",
       "      <th>cep_vendedor</th>\n",
       "      <th>cidade_vendedor</th>\n",
       "      <th>estado_vendedor</th>\n",
       "      <th>id_unica_cliente</th>\n",
       "      <th>cep_cliente</th>\n",
       "      <th>cidade_cliente</th>\n",
       "      <th>estado_cliente</th>\n",
       "    </tr>\n",
       "  </thead>\n",
       "  <tbody>\n",
       "    <tr>\n",
       "      <th>112487</th>\n",
       "      <td>b0e9288a209f5ec50391c140dba4c91f</td>\n",
       "      <td>credit_card</td>\n",
       "      <td>1</td>\n",
       "      <td>36.13</td>\n",
       "      <td>e1ccb7645c1d9af9b91b6d521e0ba64a</td>\n",
       "      <td>delivered</td>\n",
       "      <td>2018-08-25 07:32:24.979</td>\n",
       "      <td>2018-08-25 07:45:07.978</td>\n",
       "      <td>2018-08-27 20:03:00.029</td>\n",
       "      <td>2018-08-30 21:16:34.032</td>\n",
       "      <td>2018-09-14</td>\n",
       "      <td>02d00568beb770ce3939f4fca60556a1</td>\n",
       "      <td>5</td>\n",
       "      <td>2018-08-31</td>\n",
       "      <td>2018-09-05 22:33:44.035</td>\n",
       "      <td>94a6c010ef78e62cab34c6caf0a69b5f</td>\n",
       "      <td>080102cd0a76b09e0dcf55fcacc60e05</td>\n",
       "      <td>2018-08-28 07:45:07.978</td>\n",
       "      <td>17.90</td>\n",
       "      <td>18.23</td>\n",
       "      <td>consoles_games</td>\n",
       "      <td>100.00</td>\n",
       "      <td>20.00</td>\n",
       "      <td>3.00</td>\n",
       "      <td>15.00</td>\n",
       "      <td>31140</td>\n",
       "      <td>belo horizonte</td>\n",
       "      <td>MG</td>\n",
       "      <td>d2ac08ce3b32b9dc32acb436d25a1ad8</td>\n",
       "      <td>13690</td>\n",
       "      <td>descalvado</td>\n",
       "      <td>SP</td>\n",
       "    </tr>\n",
       "    <tr>\n",
       "      <th>112488</th>\n",
       "      <td>5f5d82c66499b9a72f7e8071477aee00</td>\n",
       "      <td>credit_card</td>\n",
       "      <td>1</td>\n",
       "      <td>21.77</td>\n",
       "      <td>2e3a0d5dfa1d77144e41d8219fd8934f</td>\n",
       "      <td>delivered</td>\n",
       "      <td>2017-10-31 19:33:20.016</td>\n",
       "      <td>2017-10-31 19:47:42.979</td>\n",
       "      <td>2017-11-01 18:33:02.016</td>\n",
       "      <td>2017-11-03 16:29:53.002</td>\n",
       "      <td>2017-11-10</td>\n",
       "      <td>21069ffcc48500dad15f6b8fc51aff19</td>\n",
       "      <td>4</td>\n",
       "      <td>2017-11-04</td>\n",
       "      <td>2017-11-06 19:41:29.040</td>\n",
       "      <td>1c9b5793de6c3d9117b6218552c87a8f</td>\n",
       "      <td>3c7c4a49ec3c6550809089c6a2ca9370</td>\n",
       "      <td>2017-11-07 19:47:09.024</td>\n",
       "      <td>13.99</td>\n",
       "      <td>7.78</td>\n",
       "      <td>perfumaria</td>\n",
       "      <td>50.00</td>\n",
       "      <td>16.00</td>\n",
       "      <td>5.00</td>\n",
       "      <td>11.00</td>\n",
       "      <td>3804</td>\n",
       "      <td>sao paulo</td>\n",
       "      <td>SP</td>\n",
       "      <td>6db83e5c493613ba8f9d4ddeb3af9bcf</td>\n",
       "      <td>9910</td>\n",
       "      <td>diadema</td>\n",
       "      <td>SP</td>\n",
       "    </tr>\n",
       "    <tr>\n",
       "      <th>112489</th>\n",
       "      <td>b857ab4fe30b0d1e9eaa0922b8a8d364</td>\n",
       "      <td>credit_card</td>\n",
       "      <td>2</td>\n",
       "      <td>227.66</td>\n",
       "      <td>98d3c3f34ca9bbb7c3a7e69d626b90a0</td>\n",
       "      <td>delivered</td>\n",
       "      <td>2018-05-18 19:56:54.038</td>\n",
       "      <td>2018-05-18 20:17:29.040</td>\n",
       "      <td>2018-05-29 14:10:00.019</td>\n",
       "      <td>2018-06-12 20:11:51.994</td>\n",
       "      <td>2018-07-03</td>\n",
       "      <td>ae9d19f932d50181e0b07daaa5c4963a</td>\n",
       "      <td>5</td>\n",
       "      <td>2018-06-13</td>\n",
       "      <td>2018-06-16 00:16:45.005</td>\n",
       "      <td>b5841e1059b5b0513b7f03b6646e7229</td>\n",
       "      <td>cee48807215b30a12ca2ca10ffb5f250</td>\n",
       "      <td>2018-06-04 20:17:29.040</td>\n",
       "      <td>199.90</td>\n",
       "      <td>27.76</td>\n",
       "      <td>automotivo</td>\n",
       "      <td>2,550.00</td>\n",
       "      <td>35.00</td>\n",
       "      <td>20.00</td>\n",
       "      <td>20.00</td>\n",
       "      <td>11431</td>\n",
       "      <td>guaruja</td>\n",
       "      <td>SP</td>\n",
       "      <td>97b27e8f7862217bae2f5bbc66e15b77</td>\n",
       "      <td>22720</td>\n",
       "      <td>rio de janeiro</td>\n",
       "      <td>RJ</td>\n",
       "    </tr>\n",
       "    <tr>\n",
       "      <th>112490</th>\n",
       "      <td>df8f138cbe59c7bb4454c61d1223ca18</td>\n",
       "      <td>credit_card</td>\n",
       "      <td>8</td>\n",
       "      <td>134.13</td>\n",
       "      <td>d77f3797ee0abe8fc7d85e9610400958</td>\n",
       "      <td>delivered</td>\n",
       "      <td>2018-06-01 15:09:59.962</td>\n",
       "      <td>2018-06-01 15:31:49.958</td>\n",
       "      <td>2018-07-04 06:38:00.010</td>\n",
       "      <td>2018-07-05 19:51:34.963</td>\n",
       "      <td>2018-07-19</td>\n",
       "      <td>0216b7c032381d8491f94dc6be0fc0af</td>\n",
       "      <td>4</td>\n",
       "      <td>2018-07-06</td>\n",
       "      <td>2018-07-07 22:46:13.987</td>\n",
       "      <td>e0d64dcfaa3b6db5c54ca298ae101d05</td>\n",
       "      <td>2eb70248d66e0e3ef83659f71b244378</td>\n",
       "      <td>2018-06-27 15:31:38.035</td>\n",
       "      <td>124.90</td>\n",
       "      <td>9.23</td>\n",
       "      <td>relogios_presentes</td>\n",
       "      <td>4,338.00</td>\n",
       "      <td>17.00</td>\n",
       "      <td>12.00</td>\n",
       "      <td>14.00</td>\n",
       "      <td>13101</td>\n",
       "      <td>campinas</td>\n",
       "      <td>SP</td>\n",
       "      <td>9751244bd65fd1f1166ab7f3e10a31ab</td>\n",
       "      <td>13284</td>\n",
       "      <td>vinhedo</td>\n",
       "      <td>SP</td>\n",
       "    </tr>\n",
       "    <tr>\n",
       "      <th>112491</th>\n",
       "      <td>8811b551e13f7f1be237272ebb8c30cb</td>\n",
       "      <td>credit_card</td>\n",
       "      <td>1</td>\n",
       "      <td>48.13</td>\n",
       "      <td>caa4f57153e47838c4335d18d96bdc38</td>\n",
       "      <td>delivered</td>\n",
       "      <td>2018-03-08 00:01:28.042</td>\n",
       "      <td>2018-03-08 00:16:10.013</td>\n",
       "      <td>2018-03-08 16:38:49.027</td>\n",
       "      <td>2018-04-02 20:39:21.974</td>\n",
       "      <td>2018-03-27</td>\n",
       "      <td>670a07360a960498c53f343ece011d64</td>\n",
       "      <td>1</td>\n",
       "      <td>2018-03-29</td>\n",
       "      <td>2018-03-29 12:40:02.006</td>\n",
       "      <td>e0cf79767c5b016251fe139915c59a26</td>\n",
       "      <td>da8622b14eb17ae2831f4ac5b9dab84a</td>\n",
       "      <td>2018-03-14 00:16:10.013</td>\n",
       "      <td>29.90</td>\n",
       "      <td>18.23</td>\n",
       "      <td>beleza_saude</td>\n",
       "      <td>250.00</td>\n",
       "      <td>16.00</td>\n",
       "      <td>5.00</td>\n",
       "      <td>15.00</td>\n",
       "      <td>13405</td>\n",
       "      <td>piracicaba</td>\n",
       "      <td>SP</td>\n",
       "      <td>a883e6b329b7f56b2b99309d6eb181cf</td>\n",
       "      <td>34018</td>\n",
       "      <td>nova lima</td>\n",
       "      <td>MG</td>\n",
       "    </tr>\n",
       "  </tbody>\n",
       "</table>\n",
       "</div>"
      ],
      "text/plain": [
       "                               id_pedido tipo_pagamento  prestacoes  \\\n",
       "112487  b0e9288a209f5ec50391c140dba4c91f    credit_card           1   \n",
       "112488  5f5d82c66499b9a72f7e8071477aee00    credit_card           1   \n",
       "112489  b857ab4fe30b0d1e9eaa0922b8a8d364    credit_card           2   \n",
       "112490  df8f138cbe59c7bb4454c61d1223ca18    credit_card           8   \n",
       "112491  8811b551e13f7f1be237272ebb8c30cb    credit_card           1   \n",
       "\n",
       "        valor_pagamento                        id_cliente status_pedido  \\\n",
       "112487            36.13  e1ccb7645c1d9af9b91b6d521e0ba64a     delivered   \n",
       "112488            21.77  2e3a0d5dfa1d77144e41d8219fd8934f     delivered   \n",
       "112489           227.66  98d3c3f34ca9bbb7c3a7e69d626b90a0     delivered   \n",
       "112490           134.13  d77f3797ee0abe8fc7d85e9610400958     delivered   \n",
       "112491            48.13  caa4f57153e47838c4335d18d96bdc38     delivered   \n",
       "\n",
       "              data_hora_pedido         pedido_aprovado  \\\n",
       "112487 2018-08-25 07:32:24.979 2018-08-25 07:45:07.978   \n",
       "112488 2017-10-31 19:33:20.016 2017-10-31 19:47:42.979   \n",
       "112489 2018-05-18 19:56:54.038 2018-05-18 20:17:29.040   \n",
       "112490 2018-06-01 15:09:59.962 2018-06-01 15:31:49.958   \n",
       "112491 2018-03-08 00:01:28.042 2018-03-08 00:16:10.013   \n",
       "\n",
       "         pedido_com_entregador         pedido_entregue  \\\n",
       "112487 2018-08-27 20:03:00.029 2018-08-30 21:16:34.032   \n",
       "112488 2017-11-01 18:33:02.016 2017-11-03 16:29:53.002   \n",
       "112489 2018-05-29 14:10:00.019 2018-06-12 20:11:51.994   \n",
       "112490 2018-07-04 06:38:00.010 2018-07-05 19:51:34.963   \n",
       "112491 2018-03-08 16:38:49.027 2018-04-02 20:39:21.974   \n",
       "\n",
       "       tempo_entregue_estimado                      id_avaliacao  \\\n",
       "112487              2018-09-14  02d00568beb770ce3939f4fca60556a1   \n",
       "112488              2017-11-10  21069ffcc48500dad15f6b8fc51aff19   \n",
       "112489              2018-07-03  ae9d19f932d50181e0b07daaa5c4963a   \n",
       "112490              2018-07-19  0216b7c032381d8491f94dc6be0fc0af   \n",
       "112491              2018-03-27  670a07360a960498c53f343ece011d64   \n",
       "\n",
       "        score_avaliacao data_avaliacao data_resposta_avaliacao  \\\n",
       "112487                5     2018-08-31 2018-09-05 22:33:44.035   \n",
       "112488                4     2017-11-04 2017-11-06 19:41:29.040   \n",
       "112489                5     2018-06-13 2018-06-16 00:16:45.005   \n",
       "112490                4     2018-07-06 2018-07-07 22:46:13.987   \n",
       "112491                1     2018-03-29 2018-03-29 12:40:02.006   \n",
       "\n",
       "                                 id_item                       id_vendedor  \\\n",
       "112487  94a6c010ef78e62cab34c6caf0a69b5f  080102cd0a76b09e0dcf55fcacc60e05   \n",
       "112488  1c9b5793de6c3d9117b6218552c87a8f  3c7c4a49ec3c6550809089c6a2ca9370   \n",
       "112489  b5841e1059b5b0513b7f03b6646e7229  cee48807215b30a12ca2ca10ffb5f250   \n",
       "112490  e0d64dcfaa3b6db5c54ca298ae101d05  2eb70248d66e0e3ef83659f71b244378   \n",
       "112491  e0cf79767c5b016251fe139915c59a26  da8622b14eb17ae2831f4ac5b9dab84a   \n",
       "\n",
       "           data_limite_entrega  preco  valor_frete   categoria_produto  \\\n",
       "112487 2018-08-28 07:45:07.978  17.90        18.23      consoles_games   \n",
       "112488 2017-11-07 19:47:09.024  13.99         7.78          perfumaria   \n",
       "112489 2018-06-04 20:17:29.040 199.90        27.76          automotivo   \n",
       "112490 2018-06-27 15:31:38.035 124.90         9.23  relogios_presentes   \n",
       "112491 2018-03-14 00:16:10.013  29.90        18.23        beleza_saude   \n",
       "\n",
       "        peso_produto  comprimento_produto  altura_produto  largura_produto  \\\n",
       "112487        100.00                20.00            3.00            15.00   \n",
       "112488         50.00                16.00            5.00            11.00   \n",
       "112489      2,550.00                35.00           20.00            20.00   \n",
       "112490      4,338.00                17.00           12.00            14.00   \n",
       "112491        250.00                16.00            5.00            15.00   \n",
       "\n",
       "        cep_vendedor cidade_vendedor estado_vendedor  \\\n",
       "112487         31140  belo horizonte              MG   \n",
       "112488          3804       sao paulo              SP   \n",
       "112489         11431         guaruja              SP   \n",
       "112490         13101        campinas              SP   \n",
       "112491         13405      piracicaba              SP   \n",
       "\n",
       "                        id_unica_cliente  cep_cliente  cidade_cliente  \\\n",
       "112487  d2ac08ce3b32b9dc32acb436d25a1ad8        13690      descalvado   \n",
       "112488  6db83e5c493613ba8f9d4ddeb3af9bcf         9910         diadema   \n",
       "112489  97b27e8f7862217bae2f5bbc66e15b77        22720  rio de janeiro   \n",
       "112490  9751244bd65fd1f1166ab7f3e10a31ab        13284         vinhedo   \n",
       "112491  a883e6b329b7f56b2b99309d6eb181cf        34018       nova lima   \n",
       "\n",
       "       estado_cliente  \n",
       "112487             SP  \n",
       "112488             SP  \n",
       "112489             RJ  \n",
       "112490             SP  \n",
       "112491             MG  "
      ]
     },
     "execution_count": 4,
     "metadata": {},
     "output_type": "execute_result"
    }
   ],
   "source": [
    "df.tail()"
   ]
  },
  {
   "cell_type": "markdown",
   "id": "a5f2d4ae-27ec-469a-bc59-5cad31a1d1ea",
   "metadata": {},
   "source": [
    "- Quantidade de linhas e colunas"
   ]
  },
  {
   "cell_type": "code",
   "execution_count": 5,
   "id": "9b7dc5b1-a48d-44b3-a0da-bb375f2022c2",
   "metadata": {},
   "outputs": [
    {
     "data": {
      "text/plain": [
       "(112492, 32)"
      ]
     },
     "execution_count": 5,
     "metadata": {},
     "output_type": "execute_result"
    }
   ],
   "source": [
    "df.shape"
   ]
  },
  {
   "cell_type": "markdown",
   "id": "0f922661-b1b6-4b3d-8067-cc3ffdaae7d9",
   "metadata": {},
   "source": [
    "- Inspeção dos tipos de dado de cada coluna"
   ]
  },
  {
   "cell_type": "code",
   "execution_count": 6,
   "id": "3db44dfe-36aa-46b8-a9b3-8be3599a80fe",
   "metadata": {},
   "outputs": [
    {
     "data": {
      "text/plain": [
       "id_pedido                          object\n",
       "tipo_pagamento                     object\n",
       "prestacoes                          int64\n",
       "valor_pagamento                   float64\n",
       "id_cliente                         object\n",
       "status_pedido                      object\n",
       "data_hora_pedido           datetime64[ns]\n",
       "pedido_aprovado            datetime64[ns]\n",
       "pedido_com_entregador      datetime64[ns]\n",
       "pedido_entregue            datetime64[ns]\n",
       "tempo_entregue_estimado    datetime64[ns]\n",
       "id_avaliacao                       object\n",
       "score_avaliacao                     int64\n",
       "data_avaliacao             datetime64[ns]\n",
       "data_resposta_avaliacao    datetime64[ns]\n",
       "id_item                            object\n",
       "id_vendedor                        object\n",
       "data_limite_entrega        datetime64[ns]\n",
       "preco                             float64\n",
       "valor_frete                       float64\n",
       "categoria_produto                  object\n",
       "peso_produto                      float64\n",
       "comprimento_produto               float64\n",
       "altura_produto                    float64\n",
       "largura_produto                   float64\n",
       "cep_vendedor                        int64\n",
       "cidade_vendedor                    object\n",
       "estado_vendedor                    object\n",
       "id_unica_cliente                   object\n",
       "cep_cliente                         int64\n",
       "cidade_cliente                     object\n",
       "estado_cliente                     object\n",
       "dtype: object"
      ]
     },
     "execution_count": 6,
     "metadata": {},
     "output_type": "execute_result"
    }
   ],
   "source": [
    "df.dtypes"
   ]
  },
  {
   "cell_type": "markdown",
   "id": "7c22abfc-a064-4731-bfa3-d13ea4973d02",
   "metadata": {},
   "source": [
    "- Verifica informações sobre o arquivo"
   ]
  },
  {
   "cell_type": "code",
   "execution_count": 19,
   "id": "8476a947-4e1c-4df3-be68-86e6d13e372b",
   "metadata": {},
   "outputs": [
    {
     "name": "stdout",
     "output_type": "stream",
     "text": [
      "<class 'pandas.core.frame.DataFrame'>\n",
      "RangeIndex: 112492 entries, 0 to 112491\n",
      "Data columns (total 32 columns):\n",
      " #   Column                   Non-Null Count   Dtype         \n",
      "---  ------                   --------------   -----         \n",
      " 0   id_pedido                112492 non-null  object        \n",
      " 1   tipo_pagamento           112492 non-null  object        \n",
      " 2   prestacoes               112492 non-null  int64         \n",
      " 3   valor_pagamento          112492 non-null  float64       \n",
      " 4   id_cliente               112492 non-null  object        \n",
      " 5   status_pedido            112492 non-null  object        \n",
      " 6   data_hora_pedido         112492 non-null  datetime64[ns]\n",
      " 7   pedido_aprovado          112477 non-null  datetime64[ns]\n",
      " 8   pedido_com_entregador    111312 non-null  datetime64[ns]\n",
      " 9   pedido_entregue          110129 non-null  datetime64[ns]\n",
      " 10  tempo_entregue_estimado  112492 non-null  datetime64[ns]\n",
      " 11  id_avaliacao             112492 non-null  object        \n",
      " 12  score_avaliacao          112492 non-null  int64         \n",
      " 13  data_avaliacao           107860 non-null  datetime64[ns]\n",
      " 14  data_resposta_avaliacao  107860 non-null  datetime64[ns]\n",
      " 15  id_item                  112492 non-null  object        \n",
      " 16  id_vendedor              112492 non-null  object        \n",
      " 17  data_limite_entrega      112492 non-null  datetime64[ns]\n",
      " 18  preco                    112492 non-null  float64       \n",
      " 19  valor_frete              112492 non-null  float64       \n",
      " 20  categoria_produto        110872 non-null  object        \n",
      " 21  peso_produto             112474 non-null  float64       \n",
      " 22  comprimento_produto      112474 non-null  float64       \n",
      " 23  altura_produto           112474 non-null  float64       \n",
      " 24  largura_produto          112474 non-null  float64       \n",
      " 25  cep_vendedor             112492 non-null  object        \n",
      " 26  cidade_vendedor          112492 non-null  object        \n",
      " 27  estado_vendedor          112492 non-null  object        \n",
      " 28  id_unica_cliente         112492 non-null  object        \n",
      " 29  cep_cliente              112492 non-null  object        \n",
      " 30  cidade_cliente           112492 non-null  object        \n",
      " 31  estado_cliente           112492 non-null  object        \n",
      "dtypes: datetime64[ns](8), float64(7), int64(2), object(15)\n",
      "memory usage: 27.5+ MB\n"
     ]
    }
   ],
   "source": [
    "df.info()"
   ]
  },
  {
   "cell_type": "markdown",
   "id": "82d763a8-c031-47aa-9554-29fc29648ee3",
   "metadata": {},
   "source": [
    "- Verificação de colunas com dados faltantes"
   ]
  },
  {
   "cell_type": "code",
   "execution_count": 8,
   "id": "183e0296-e7a3-4f07-becd-fa093bf2226c",
   "metadata": {},
   "outputs": [
    {
     "data": {
      "text/plain": [
       "id_pedido                     0\n",
       "tipo_pagamento                0\n",
       "prestacoes                    0\n",
       "valor_pagamento               0\n",
       "id_cliente                    0\n",
       "status_pedido                 0\n",
       "data_hora_pedido              0\n",
       "pedido_aprovado              15\n",
       "pedido_com_entregador      1180\n",
       "pedido_entregue            2363\n",
       "tempo_entregue_estimado       0\n",
       "id_avaliacao                  0\n",
       "score_avaliacao               0\n",
       "data_avaliacao             4632\n",
       "data_resposta_avaliacao    4632\n",
       "id_item                       0\n",
       "id_vendedor                   0\n",
       "data_limite_entrega           0\n",
       "preco                         0\n",
       "valor_frete                   0\n",
       "categoria_produto          1620\n",
       "peso_produto                 18\n",
       "comprimento_produto          18\n",
       "altura_produto               18\n",
       "largura_produto              18\n",
       "cep_vendedor                  0\n",
       "cidade_vendedor               0\n",
       "estado_vendedor               0\n",
       "id_unica_cliente              0\n",
       "cep_cliente                   0\n",
       "cidade_cliente                0\n",
       "estado_cliente                0\n",
       "dtype: int64"
      ]
     },
     "execution_count": 8,
     "metadata": {},
     "output_type": "execute_result"
    }
   ],
   "source": [
    "df.isnull().sum()"
   ]
  },
  {
   "cell_type": "markdown",
   "id": "0789e3af-ec87-4fb4-99ed-96ac922d4946",
   "metadata": {},
   "source": [
    "- Contagem de valores únicos por coluna"
   ]
  },
  {
   "cell_type": "code",
   "execution_count": 9,
   "id": "d0c8cfe5-b1cc-42ec-ad74-de372e33aa11",
   "metadata": {},
   "outputs": [
    {
     "data": {
      "text/plain": [
       "tipo_pagamento                 4\n",
       "score_avaliacao                5\n",
       "status_pedido                  7\n",
       "estado_vendedor               23\n",
       "prestacoes                    24\n",
       "estado_cliente                27\n",
       "categoria_produto             73\n",
       "largura_produto               95\n",
       "comprimento_produto           99\n",
       "altura_produto               102\n",
       "tempo_entregue_estimado      446\n",
       "cidade_vendedor              603\n",
       "data_avaliacao               631\n",
       "peso_produto                2183\n",
       "cep_vendedor                2232\n",
       "id_vendedor                 3064\n",
       "cidade_cliente              4063\n",
       "preco                       5846\n",
       "valor_frete                 6908\n",
       "cep_cliente                14790\n",
       "valor_pagamento            28331\n",
       "id_item                    31951\n",
       "pedido_com_entregador      77831\n",
       "pedido_aprovado            86554\n",
       "data_limite_entrega        89465\n",
       "data_resposta_avaliacao    90891\n",
       "pedido_entregue            91637\n",
       "data_hora_pedido           94135\n",
       "id_pedido                  94385\n",
       "id_cliente                 94385\n",
       "id_unica_cliente           94385\n",
       "id_avaliacao               94699\n",
       "dtype: int64"
      ]
     },
     "execution_count": 9,
     "metadata": {},
     "output_type": "execute_result"
    }
   ],
   "source": [
    "unique_counts = df.nunique().sort_values()\n",
    "unique_counts"
   ]
  },
  {
   "cell_type": "markdown",
   "id": "6783fef5-e4e9-4224-8696-784e414e820a",
   "metadata": {},
   "source": [
    "## Conversão de CEPs\n",
    "\n",
    "- As colunas `cep_vendedor` e `cep_cliente` foram convertidas para string, pois CEPs são identificadores e não devem ser tratados como variáveis numéricas\n"
   ]
  },
  {
   "cell_type": "code",
   "execution_count": 15,
   "id": "d9b1981c-530c-487c-88dd-f8d906a3614f",
   "metadata": {},
   "outputs": [],
   "source": [
    "df['cep_vendedor'] = df['cep_vendedor'].astype(str)\n",
    "df['cep_cliente'] = df['cep_cliente'].astype(str)"
   ]
  },
  {
   "cell_type": "markdown",
   "id": "9b566152-0ec8-4773-96e4-e002994bab84",
   "metadata": {},
   "source": [
    "## 4. Visualização das Variáveis"
   ]
  },
  {
   "cell_type": "markdown",
   "id": "4d4bd619-7f26-4368-b84f-97902244d493",
   "metadata": {},
   "source": [
    "### Variáveis Numéricas"
   ]
  },
  {
   "cell_type": "markdown",
   "id": "1fcf1326-02c6-4f59-985f-a1264e4f7f68",
   "metadata": {},
   "source": [
    "- Seleção de variáveis numéricas e remoção de `score_avaliacao` delas"
   ]
  },
  {
   "cell_type": "code",
   "execution_count": 78,
   "id": "533be78a-2b80-4c41-8e8f-86742ae60626",
   "metadata": {},
   "outputs": [],
   "source": [
    "numerical_variables = df.select_dtypes(include=[np.number]).columns.tolist()\n",
    "numerical_variables.remove('score_avaliacao')"
   ]
  },
  {
   "cell_type": "code",
   "execution_count": 79,
   "id": "170ea0b3-3fe4-4bcb-8e30-197e6ca1463d",
   "metadata": {},
   "outputs": [
    {
     "data": {
      "text/plain": [
       "['prestacoes',\n",
       " 'valor_pagamento',\n",
       " 'preco',\n",
       " 'valor_frete',\n",
       " 'peso_produto',\n",
       " 'comprimento_produto',\n",
       " 'altura_produto',\n",
       " 'largura_produto']"
      ]
     },
     "execution_count": 79,
     "metadata": {},
     "output_type": "execute_result"
    }
   ],
   "source": [
    "numerical_variables"
   ]
  },
  {
   "cell_type": "markdown",
   "id": "dcb120ba-720b-4f63-ba3f-3c0e0e9a77ce",
   "metadata": {},
   "source": [
    "- Estatísticas de variáveis numéricas"
   ]
  },
  {
   "cell_type": "code",
   "execution_count": 80,
   "id": "5e35d823-a0f5-41a2-a2a4-873242accbd3",
   "metadata": {},
   "outputs": [
    {
     "data": {
      "text/html": [
       "<div>\n",
       "<style scoped>\n",
       "    .dataframe tbody tr th:only-of-type {\n",
       "        vertical-align: middle;\n",
       "    }\n",
       "\n",
       "    .dataframe tbody tr th {\n",
       "        vertical-align: top;\n",
       "    }\n",
       "\n",
       "    .dataframe thead th {\n",
       "        text-align: right;\n",
       "    }\n",
       "</style>\n",
       "<table border=\"1\" class=\"dataframe\">\n",
       "  <thead>\n",
       "    <tr style=\"text-align: right;\">\n",
       "      <th></th>\n",
       "      <th>prestacoes</th>\n",
       "      <th>valor_pagamento</th>\n",
       "      <th>preco</th>\n",
       "      <th>valor_frete</th>\n",
       "      <th>peso_produto</th>\n",
       "      <th>comprimento_produto</th>\n",
       "      <th>altura_produto</th>\n",
       "      <th>largura_produto</th>\n",
       "    </tr>\n",
       "  </thead>\n",
       "  <tbody>\n",
       "    <tr>\n",
       "      <th>count</th>\n",
       "      <td>112,492.00</td>\n",
       "      <td>112,492.00</td>\n",
       "      <td>112,492.00</td>\n",
       "      <td>112,492.00</td>\n",
       "      <td>112,474.00</td>\n",
       "      <td>112,474.00</td>\n",
       "      <td>112,474.00</td>\n",
       "      <td>112,474.00</td>\n",
       "    </tr>\n",
       "    <tr>\n",
       "      <th>mean</th>\n",
       "      <td>2.92</td>\n",
       "      <td>172.13</td>\n",
       "      <td>121.25</td>\n",
       "      <td>20.06</td>\n",
       "      <td>2,115.40</td>\n",
       "      <td>30.24</td>\n",
       "      <td>16.65</td>\n",
       "      <td>23.07</td>\n",
       "    </tr>\n",
       "    <tr>\n",
       "      <th>std</th>\n",
       "      <td>2.76</td>\n",
       "      <td>267.55</td>\n",
       "      <td>184.61</td>\n",
       "      <td>15.92</td>\n",
       "      <td>3,787.44</td>\n",
       "      <td>16.18</td>\n",
       "      <td>13.49</td>\n",
       "      <td>11.76</td>\n",
       "    </tr>\n",
       "    <tr>\n",
       "      <th>min</th>\n",
       "      <td>0.00</td>\n",
       "      <td>0.00</td>\n",
       "      <td>0.85</td>\n",
       "      <td>0.00</td>\n",
       "      <td>0.00</td>\n",
       "      <td>7.00</td>\n",
       "      <td>2.00</td>\n",
       "      <td>6.00</td>\n",
       "    </tr>\n",
       "    <tr>\n",
       "      <th>25%</th>\n",
       "      <td>1.00</td>\n",
       "      <td>60.70</td>\n",
       "      <td>39.90</td>\n",
       "      <td>13.08</td>\n",
       "      <td>300.00</td>\n",
       "      <td>18.00</td>\n",
       "      <td>8.00</td>\n",
       "      <td>15.00</td>\n",
       "    </tr>\n",
       "    <tr>\n",
       "      <th>50%</th>\n",
       "      <td>2.00</td>\n",
       "      <td>108.10</td>\n",
       "      <td>74.99</td>\n",
       "      <td>16.31</td>\n",
       "      <td>700.00</td>\n",
       "      <td>25.00</td>\n",
       "      <td>13.00</td>\n",
       "      <td>20.00</td>\n",
       "    </tr>\n",
       "    <tr>\n",
       "      <th>75%</th>\n",
       "      <td>4.00</td>\n",
       "      <td>188.89</td>\n",
       "      <td>134.90</td>\n",
       "      <td>21.19</td>\n",
       "      <td>1,800.00</td>\n",
       "      <td>38.00</td>\n",
       "      <td>20.00</td>\n",
       "      <td>30.00</td>\n",
       "    </tr>\n",
       "    <tr>\n",
       "      <th>max</th>\n",
       "      <td>24.00</td>\n",
       "      <td>13,664.08</td>\n",
       "      <td>6,735.00</td>\n",
       "      <td>409.68</td>\n",
       "      <td>40,425.00</td>\n",
       "      <td>105.00</td>\n",
       "      <td>105.00</td>\n",
       "      <td>118.00</td>\n",
       "    </tr>\n",
       "  </tbody>\n",
       "</table>\n",
       "</div>"
      ],
      "text/plain": [
       "       prestacoes  valor_pagamento      preco  valor_frete  peso_produto  \\\n",
       "count  112,492.00       112,492.00 112,492.00   112,492.00    112,474.00   \n",
       "mean         2.92           172.13     121.25        20.06      2,115.40   \n",
       "std          2.76           267.55     184.61        15.92      3,787.44   \n",
       "min          0.00             0.00       0.85         0.00          0.00   \n",
       "25%          1.00            60.70      39.90        13.08        300.00   \n",
       "50%          2.00           108.10      74.99        16.31        700.00   \n",
       "75%          4.00           188.89     134.90        21.19      1,800.00   \n",
       "max         24.00        13,664.08   6,735.00       409.68     40,425.00   \n",
       "\n",
       "       comprimento_produto  altura_produto  largura_produto  \n",
       "count           112,474.00      112,474.00       112,474.00  \n",
       "mean                 30.24           16.65            23.07  \n",
       "std                  16.18           13.49            11.76  \n",
       "min                   7.00            2.00             6.00  \n",
       "25%                  18.00            8.00            15.00  \n",
       "50%                  25.00           13.00            20.00  \n",
       "75%                  38.00           20.00            30.00  \n",
       "max                 105.00          105.00           118.00  "
      ]
     },
     "execution_count": 80,
     "metadata": {},
     "output_type": "execute_result"
    }
   ],
   "source": [
    "df[numerical_variables].describe()"
   ]
  },
  {
   "cell_type": "markdown",
   "id": "14734f78-4ddf-48c2-9d08-5653c3bfdf63",
   "metadata": {},
   "source": [
    "- Quantidade de observações por prestações"
   ]
  },
  {
   "cell_type": "code",
   "execution_count": 38,
   "id": "1a8aab14-b5e7-426f-9be1-da104f98bf1a",
   "metadata": {
    "scrolled": true
   },
   "outputs": [
    {
     "data": {
      "text/plain": [
       "prestacoes\n",
       "0         3\n",
       "1     56224\n",
       "2     13209\n",
       "3     11297\n",
       "4      7648\n",
       "5      5707\n",
       "6      4389\n",
       "7      1733\n",
       "8      4811\n",
       "9       679\n",
       "10     6390\n",
       "11       22\n",
       "12      157\n",
       "13       17\n",
       "14       14\n",
       "15       81\n",
       "16        7\n",
       "17        7\n",
       "18       38\n",
       "20       19\n",
       "21        4\n",
       "22        1\n",
       "23        1\n",
       "24       34\n",
       "dtype: int64"
      ]
     },
     "execution_count": 38,
     "metadata": {},
     "output_type": "execute_result"
    }
   ],
   "source": [
    "df.groupby(['prestacoes']).size()"
   ]
  },
  {
   "cell_type": "markdown",
   "id": "bd110191-95d2-4427-90cd-c4191c1104a8",
   "metadata": {},
   "source": [
    "- O gráfico de barras foi escolhido para melhor visualização da frequência de cada valor"
   ]
  },
  {
   "cell_type": "code",
   "execution_count": 72,
   "id": "62e39a47-2fa6-4b2a-a2dd-7a7e07b9c416",
   "metadata": {},
   "outputs": [
    {
     "data": {
      "image/png": "[encoded data removed]",
      "text/plain": [
       "<Figure size 1000x500 with 1 Axes>"
      ]
     },
     "metadata": {},
     "output_type": "display_data"
    }
   ],
   "source": [
    "plt.figure(figsize=(10, 5))\n",
    "df['prestacoes'].value_counts().sort_index().plot(kind='bar', color='#219ebc')\n",
    "plt.title('Prestações')\n",
    "plt.xlabel('Número de Prestações')\n",
    "plt.ylabel('Frequência')\n",
    "plt.xticks(rotation=0);"
   ]
  },
  {
   "cell_type": "markdown",
   "id": "1d9e28ba-000c-4fa1-bf93-1801fa35be6f",
   "metadata": {},
   "source": [
    "- Quantidade de observações por valor de pagamento"
   ]
  },
  {
   "cell_type": "code",
   "execution_count": 46,
   "id": "94f6d277-f5ac-4d3b-abf1-ab86a30e79fb",
   "metadata": {},
   "outputs": [
    {
     "data": {
      "text/plain": [
       "112492"
      ]
     },
     "execution_count": 46,
     "metadata": {},
     "output_type": "execute_result"
    }
   ],
   "source": [
    "df['valor_pagamento'].size"
   ]
  },
  {
   "cell_type": "markdown",
   "id": "e1a42574-cbac-4222-bce0-4bfac229b4ec",
   "metadata": {},
   "source": [
    "- O boxplot foi escolhido para a visualização já que temos muitos valores únicos para essa variável numérica, e assim já é possível identificar assimetrias e possíveis outliers"
   ]
  },
  {
   "cell_type": "code",
   "execution_count": 74,
   "id": "b47bbbaf-e4ff-486d-920f-ca0c41b0d698",
   "metadata": {},
   "outputs": [
    {
     "data": {
      "image/png": "[encoded data removed]",
      "text/plain": [
       "<Figure size 800x200 with 1 Axes>"
      ]
     },
     "metadata": {},
     "output_type": "display_data"
    }
   ],
   "source": [
    "plt.figure(figsize=(8, 2))\n",
    "sns.boxplot(x=df['valor_pagamento'], color='#219ebc')\n",
    "plt.title('Boxplot de Valor Pagamento')\n",
    "plt.xlabel('Valor Pagamento');"
   ]
  },
  {
   "cell_type": "markdown",
   "id": "a7bef97d-e632-4f17-a0e3-9096c1d0e711",
   "metadata": {},
   "source": [
    "- Quantidade de observações por preço"
   ]
  },
  {
   "cell_type": "code",
   "execution_count": 47,
   "id": "c02ed71e-9d28-4324-ad88-d41ec2bb004d",
   "metadata": {},
   "outputs": [
    {
     "data": {
      "text/plain": [
       "112492"
      ]
     },
     "execution_count": 47,
     "metadata": {},
     "output_type": "execute_result"
    }
   ],
   "source": [
    "df['preco'].size"
   ]
  },
  {
   "cell_type": "markdown",
   "id": "412fc245-fbdd-4226-a066-07d5b64496b7",
   "metadata": {},
   "source": [
    "- Visualização através de boxplot"
   ]
  },
  {
   "cell_type": "code",
   "execution_count": 55,
   "id": "725af224-c588-4992-997b-ced7fb7b6bc0",
   "metadata": {},
   "outputs": [
    {
     "data": {
      "image/png": "[encoded data removed]",
      "text/plain": [
       "<Figure size 800x200 with 1 Axes>"
      ]
     },
     "metadata": {},
     "output_type": "display_data"
    }
   ],
   "source": [
    "plt.figure(figsize=(8, 2))\n",
    "sns.boxplot(x=df['preco'], color='#219ebc')\n",
    "plt.title('Boxplot de Preços')\n",
    "plt.xlabel('Preço');"
   ]
  },
  {
   "cell_type": "markdown",
   "id": "d0131e36-f986-491b-af6c-57f4edc3ca02",
   "metadata": {},
   "source": [
    "- Quantidade de observações por valor de frete"
   ]
  },
  {
   "cell_type": "code",
   "execution_count": 49,
   "id": "27ebaf36-a0e3-4d62-84f1-9c6166ad0104",
   "metadata": {},
   "outputs": [
    {
     "data": {
      "text/plain": [
       "112492"
      ]
     },
     "execution_count": 49,
     "metadata": {},
     "output_type": "execute_result"
    }
   ],
   "source": [
    "df['valor_frete'].size"
   ]
  },
  {
   "cell_type": "markdown",
   "id": "8c2b4072-ba67-431d-bcc2-cd3fe89887d7",
   "metadata": {},
   "source": [
    "- Visualização através de boxplot"
   ]
  },
  {
   "cell_type": "code",
   "execution_count": 56,
   "id": "099f4d7d-2277-4207-bf13-058de3eadffa",
   "metadata": {},
   "outputs": [
    {
     "data": {
      "image/png": "[encoded data removed]",
      "text/plain": [
       "<Figure size 800x200 with 1 Axes>"
      ]
     },
     "metadata": {},
     "output_type": "display_data"
    }
   ],
   "source": [
    "plt.figure(figsize=(8, 2))\n",
    "sns.boxplot(x=df['valor_frete'], color='#219ebc')\n",
    "plt.title('Boxplot de Valor de Frete')\n",
    "plt.xlabel('Valor Frete');"
   ]
  },
  {
   "cell_type": "markdown",
   "id": "095138ff-3d2e-4830-b827-12e4e124759c",
   "metadata": {},
   "source": [
    "- Quantidade de observações por peso de produto"
   ]
  },
  {
   "cell_type": "code",
   "execution_count": 53,
   "id": "2ae143ee-0b99-459b-93f3-ba5ab136be6e",
   "metadata": {},
   "outputs": [
    {
     "data": {
      "text/plain": [
       "112492"
      ]
     },
     "execution_count": 53,
     "metadata": {},
     "output_type": "execute_result"
    }
   ],
   "source": [
    "df['peso_produto'].size"
   ]
  },
  {
   "cell_type": "markdown",
   "id": "f78d1a59-cf91-4274-b6a7-1fdf87361e58",
   "metadata": {},
   "source": [
    "- Visualização em boxplot"
   ]
  },
  {
   "cell_type": "code",
   "execution_count": 59,
   "id": "18dbb4e9-22c5-4c36-add3-607c9f97d6cc",
   "metadata": {},
   "outputs": [
    {
     "data": {
      "image/png": "[encoded data removed]",
      "text/plain": [
       "<Figure size 800x200 with 1 Axes>"
      ]
     },
     "metadata": {},
     "output_type": "display_data"
    }
   ],
   "source": [
    "plt.figure(figsize=(8, 2))\n",
    "sns.boxplot(x=df['peso_produto'], color='#219ebc')\n",
    "plt.title('Boxplot de Pesos dos Produtos')\n",
    "plt.xlabel('Peso Produto');"
   ]
  },
  {
   "cell_type": "markdown",
   "id": "d2876196-214f-4bbf-9a17-5d4fcf38675a",
   "metadata": {},
   "source": [
    "- Quantidade de observações por comprimento de produto"
   ]
  },
  {
   "cell_type": "code",
   "execution_count": 60,
   "id": "a74563f1-5494-4d16-9ea6-6ec46ad655c0",
   "metadata": {},
   "outputs": [
    {
     "data": {
      "text/plain": [
       "112492"
      ]
     },
     "execution_count": 60,
     "metadata": {},
     "output_type": "execute_result"
    }
   ],
   "source": [
    "df['comprimento_produto'].size"
   ]
  },
  {
   "cell_type": "markdown",
   "id": "b40d8a0f-9b6f-45c4-9ac1-8ae97aaca91d",
   "metadata": {},
   "source": [
    "- Visualização em histograma"
   ]
  },
  {
   "cell_type": "code",
   "execution_count": 75,
   "id": "950a0a90-99d2-44fa-b250-5fad7336583f",
   "metadata": {},
   "outputs": [
    {
     "data": {
      "image/png": "[encoded data removed]",
      "text/plain": [
       "<Figure size 1000x500 with 1 Axes>"
      ]
     },
     "metadata": {},
     "output_type": "display_data"
    }
   ],
   "source": [
    "plt.figure(figsize=(10, 5))\n",
    "df['comprimento_produto'].hist(bins=50, color='#219ebc')\n",
    "plt.title('Distribuição de Comprimento do Produto')\n",
    "plt.xlabel('Comprimento Produto')\n",
    "plt.ylabel('Frequência');"
   ]
  },
  {
   "cell_type": "markdown",
   "id": "fe52c877-3c71-4be8-8c29-c00f376238a9",
   "metadata": {},
   "source": [
    "- Quantidade de observações por altura de produto"
   ]
  },
  {
   "cell_type": "code",
   "execution_count": 63,
   "id": "210c49cf-d914-46be-a441-cf1ab78f4d28",
   "metadata": {},
   "outputs": [
    {
     "data": {
      "text/plain": [
       "112492"
      ]
     },
     "execution_count": 63,
     "metadata": {},
     "output_type": "execute_result"
    }
   ],
   "source": [
    "df['altura_produto'].size"
   ]
  },
  {
   "cell_type": "markdown",
   "id": "482c0cb1-5ec2-44e9-9097-491383bccea3",
   "metadata": {},
   "source": [
    "- Visualização em histograma"
   ]
  },
  {
   "cell_type": "code",
   "execution_count": 66,
   "id": "dcfb80d8-e461-4a53-a55e-10a9dd18f6f9",
   "metadata": {},
   "outputs": [
    {
     "data": {
      "image/png": "[encoded data removed]",
      "text/plain": [
       "<Figure size 1000x500 with 1 Axes>"
      ]
     },
     "metadata": {},
     "output_type": "display_data"
    }
   ],
   "source": [
    "plt.figure(figsize=(10, 5))\n",
    "df['altura_produto'].hist(bins=50, color='#219ebc')\n",
    "plt.title('Distribuição de Altura do Produto')\n",
    "plt.xlabel('Altura Produto')\n",
    "plt.ylabel('Frequência');"
   ]
  },
  {
   "cell_type": "markdown",
   "id": "36b4a3f7-89e3-4ec8-b957-01df51f06c9b",
   "metadata": {},
   "source": [
    "- Observações por largura de produto"
   ]
  },
  {
   "cell_type": "code",
   "execution_count": 67,
   "id": "9acbac5c-4857-48e2-bbd0-bc893f7d5439",
   "metadata": {},
   "outputs": [
    {
     "data": {
      "text/plain": [
       "112492"
      ]
     },
     "execution_count": 67,
     "metadata": {},
     "output_type": "execute_result"
    }
   ],
   "source": [
    "df['largura_produto'].size"
   ]
  },
  {
   "cell_type": "markdown",
   "id": "58642f30-bf9a-4dfe-837f-d937b93d3596",
   "metadata": {},
   "source": [
    "- Visualização em histograma"
   ]
  },
  {
   "cell_type": "code",
   "execution_count": 69,
   "id": "41449e6b-58c5-447f-9bd1-ef3774355e71",
   "metadata": {},
   "outputs": [
    {
     "data": {
      "image/png": "[encoded data removed]",
      "text/plain": [
       "<Figure size 1000x500 with 1 Axes>"
      ]
     },
     "metadata": {},
     "output_type": "display_data"
    }
   ],
   "source": [
    "plt.figure(figsize=(10, 5))\n",
    "df['largura_produto'].hist(bins=50, color='#219ebc')\n",
    "plt.title('Distribuição de Largura do Produto')\n",
    "plt.xlabel('Largura Produto')\n",
    "plt.ylabel('Frequência');"
   ]
  },
  {
   "cell_type": "markdown",
   "id": "d2293952-cafc-403a-b35b-b8c06c25d0cb",
   "metadata": {},
   "source": [
    "## Discussão sobre escolhas de plots\n",
    "\n",
    "A escolha do tipo de gráfico para cada variável foi feita considerando a natureza dos dados e o objetivo de obter uma visão inicial clara da distribuição de cada atributo. O gráfico de barras foi utilizado para a variável `prestacoes`, que tem poucos valores únicos, pois esse tipo de plot facilita a visualização da frequência de cada categoria, permitindo identificar rapidamente padrões ou valores mais comuns.\n",
    "O boxplot foi escolhido para variáveis contínuas com muitos valores únicos, como `valor_pagamento`, `preco`, `valor_frete` e `peso_produto`, já que é eficiente para visualizar a mediana, a dispersão dos dados e possíveis outliers.\n",
    "Já o histograma foi utilizado para variáveis contínuas relacionadas a dimensões de produtos (`comprimento_produto`, `altura_produto`, `largura_produto`), pois ele permite observar a distribuição dos dados ao longo de intervalos, facilitando a identificação de assimetrias, concentrações e possíveis anomalias."
   ]
  },
  {
   "cell_type": "markdown",
   "id": "4c9fea3a-fe50-4cef-8409-94b3a950ca0b",
   "metadata": {},
   "source": [
    "## Variáveis Categóricas"
   ]
  },
  {
   "cell_type": "markdown",
   "id": "463c9c5c-2833-410d-a582-88747fb00f0a",
   "metadata": {},
   "source": [
    "### Identificação de Variáveis Categóricas\n",
    "- Inicialmente, foram consideradas como candidatas a categóricas as variáveis com até 20 valores únicos"
   ]
  },
  {
   "cell_type": "code",
   "execution_count": 10,
   "id": "2f397659-a47b-4b8b-ace3-d94fe6586e6d",
   "metadata": {},
   "outputs": [],
   "source": [
    "categorical_candidates = unique_counts[unique_counts <= 20].index.tolist()"
   ]
  },
  {
   "cell_type": "code",
   "execution_count": 11,
   "id": "a45a4411-c114-4fec-b43a-55cf0d88976b",
   "metadata": {},
   "outputs": [
    {
     "data": {
      "text/plain": [
       "['tipo_pagamento', 'score_avaliacao', 'status_pedido']"
      ]
     },
     "execution_count": 11,
     "metadata": {},
     "output_type": "execute_result"
    }
   ],
   "source": [
    "categorical_candidates"
   ]
  },
  {
   "cell_type": "markdown",
   "id": "97a47fde-3551-47ad-863a-1838b137b5d0",
   "metadata": {},
   "source": [
    "- Complementarmente, variáveis do tipo `object` ou que representam categorias relevantes para o negócio foram incluídas manualmente"
   ]
  },
  {
   "cell_type": "code",
   "execution_count": 82,
   "id": "9a4e5d48-c5d6-48e4-a631-ffba5f777a4d",
   "metadata": {},
   "outputs": [],
   "source": [
    "categorical_manual = [\n",
    "    'categoria_produto',\n",
    "    'cidade_cliente',\n",
    "    'estado_cliente',\n",
    "]\n",
    "categorical_variables = list(set(categorical_candidates + categorical_manual))"
   ]
  },
  {
   "cell_type": "markdown",
   "id": "405e610b-c632-4456-b0a7-eac7684018c8",
   "metadata": {},
   "source": [
    "- O critério misto (automático + manual) foi adotado para garantir que variáveis importantes não fossem descartadas apenas pelo número de categorias"
   ]
  },
  {
   "cell_type": "code",
   "execution_count": 77,
   "id": "407a96ba-0f02-43a6-9c66-ac2e0a88b0ee",
   "metadata": {},
   "outputs": [
    {
     "data": {
      "text/plain": [
       "['cidade_cliente',\n",
       " 'estado_cliente',\n",
       " 'categoria_produto',\n",
       " 'status_pedido',\n",
       " 'score_avaliacao',\n",
       " 'tipo_pagamento']"
      ]
     },
     "execution_count": 77,
     "metadata": {},
     "output_type": "execute_result"
    }
   ],
   "source": [
    "categorical_variables"
   ]
  },
  {
   "cell_type": "markdown",
   "id": "76a7e6fc-b41c-441b-9224-b034c35abe4b",
   "metadata": {},
   "source": [
    "- Quantidade de observações por Cidade do Cliente"
   ]
  },
  {
   "cell_type": "code",
   "execution_count": 88,
   "id": "00f78d42-d7dc-4976-9d50-527351eff0b6",
   "metadata": {},
   "outputs": [
    {
     "data": {
      "text/plain": [
       "112492"
      ]
     },
     "execution_count": 88,
     "metadata": {},
     "output_type": "execute_result"
    }
   ],
   "source": [
    "df['cidade_cliente'].size"
   ]
  },
  {
   "cell_type": "markdown",
   "id": "f06a5388-869e-47dc-bc87-6506cde0eaa5",
   "metadata": {},
   "source": [
    "- Visualização através do gráfico"
   ]
  },
  {
   "cell_type": "code",
   "execution_count": 106,
   "id": "e67e0dbd-d574-4070-86bf-305d8506da82",
   "metadata": {},
   "outputs": [
    {
     "data": {
      "image/png": "[encoded data removed]",
      "text/plain": [
       "<Figure size 1000x400 with 1 Axes>"
      ]
     },
     "metadata": {},
     "output_type": "display_data"
    }
   ],
   "source": [
    "top_cidades = df['cidade_cliente'].value_counts().head(10)\n",
    "\n",
    "plt.figure(figsize=(10, 4))\n",
    "top_cidades.plot(kind='bar', color='#219ebc')\n",
    "plt.title('Top 10 Cidades com Mais Pedidos')\n",
    "plt.xlabel('Cidade')\n",
    "plt.ylabel('Quantidade de Pedidos');"
   ]
  },
  {
   "cell_type": "markdown",
   "id": "db2f13a8-3968-47d8-9e13-d7ced54f087b",
   "metadata": {},
   "source": [
    "- Quantidade de observações por Estado do Cliente"
   ]
  },
  {
   "cell_type": "code",
   "execution_count": 93,
   "id": "7114d4b8-b8da-400f-b4f9-fef78b906e60",
   "metadata": {},
   "outputs": [
    {
     "data": {
      "text/plain": [
       "estado_cliente\n",
       "AC       89\n",
       "AL      442\n",
       "AM      164\n",
       "AP       82\n",
       "BA     3856\n",
       "CE     1505\n",
       "DF     2200\n",
       "ES     2224\n",
       "GO     2320\n",
       "MA      808\n",
       "MG    13102\n",
       "MS      825\n",
       "MT     1076\n",
       "PA     1070\n",
       "PB      606\n",
       "PE     1812\n",
       "PI      552\n",
       "PR     5719\n",
       "RJ    14600\n",
       "RN      551\n",
       "RO      262\n",
       "RR       50\n",
       "RS     6224\n",
       "SC     4123\n",
       "SE      377\n",
       "SP    47523\n",
       "TO      330\n",
       "dtype: int64"
      ]
     },
     "execution_count": 93,
     "metadata": {},
     "output_type": "execute_result"
    }
   ],
   "source": [
    "df.groupby(['estado_cliente']).size()"
   ]
  },
  {
   "cell_type": "markdown",
   "id": "58e6d1bd-0e4e-44da-95b2-7f8c927137a3",
   "metadata": {},
   "source": [
    "- Visualização através do gráfico"
   ]
  },
  {
   "cell_type": "code",
   "execution_count": 107,
   "id": "0053bc58-bfb1-4d3e-bbc7-e95a5af7b805",
   "metadata": {},
   "outputs": [
    {
     "data": {
      "image/png": "[encoded data removed]",
      "text/plain": [
       "<Figure size 1000x400 with 1 Axes>"
      ]
     },
     "metadata": {},
     "output_type": "display_data"
    }
   ],
   "source": [
    "plt.figure(figsize=(10, 4))\n",
    "df['estado_cliente'].value_counts().plot(kind='bar', color='#219ebc')\n",
    "plt.title('Estado Cliente')\n",
    "plt.xlabel('Estado')\n",
    "plt.ylabel('Quantidade de Pedidos');"
   ]
  },
  {
   "cell_type": "markdown",
   "id": "243d9e00-527c-4f74-b4ef-a4539b088cae",
   "metadata": {},
   "source": [
    "- Quantidade de observações por Categoria de Produto"
   ]
  },
  {
   "cell_type": "code",
   "execution_count": 97,
   "id": "610dad44-4daa-46e9-bb68-5b329c9f8694",
   "metadata": {},
   "outputs": [
    {
     "data": {
      "text/plain": [
       "112492"
      ]
     },
     "execution_count": 97,
     "metadata": {},
     "output_type": "execute_result"
    }
   ],
   "source": [
    "df['categoria_produto'].size"
   ]
  },
  {
   "cell_type": "markdown",
   "id": "f96f534d-9c02-44ce-b1c4-59b8dd7befa0",
   "metadata": {},
   "source": [
    "- Visualização das categorias mais frequentes em gráfico"
   ]
  },
  {
   "cell_type": "code",
   "execution_count": 100,
   "id": "5967fde7-d5b0-49fb-9a9a-ccdd04a32311",
   "metadata": {},
   "outputs": [
    {
     "data": {
      "text/plain": [
       "Text(0, 0.5, 'Quantidade de Pedidos')"
      ]
     },
     "execution_count": 100,
     "metadata": {},
     "output_type": "execute_result"
    },
    {
     "data": {
      "image/png": "[encoded data removed]",
      "text/plain": [
       "<Figure size 2000x400 with 1 Axes>"
      ]
     },
     "metadata": {},
     "output_type": "display_data"
    }
   ],
   "source": [
    "top_cidades = df['categoria_produto'].value_counts().head(20)\n",
    "\n",
    "plt.figure(figsize=(20, 4))\n",
    "top_cidades.plot(kind='bar', color='#219ebc')\n",
    "plt.title('Categorias com Mais Pedidos')\n",
    "plt.xlabel('Categoria')\n",
    "plt.ylabel('Quantidade de Pedidos')"
   ]
  },
  {
   "cell_type": "markdown",
   "id": "de50364a-61bf-4a07-b54a-67a9c168c1e9",
   "metadata": {},
   "source": [
    "- Quantidade de observações por Status do Pedido"
   ]
  },
  {
   "cell_type": "code",
   "execution_count": 101,
   "id": "1b1f3abd-99fb-4d09-ab7c-16fd16ea249c",
   "metadata": {},
   "outputs": [
    {
     "data": {
      "text/plain": [
       "status_pedido\n",
       "approved            3\n",
       "canceled          527\n",
       "delivered      110130\n",
       "invoiced          348\n",
       "processing        362\n",
       "shipped          1115\n",
       "unavailable         7\n",
       "dtype: int64"
      ]
     },
     "execution_count": 101,
     "metadata": {},
     "output_type": "execute_result"
    }
   ],
   "source": [
    "df.groupby(['status_pedido']).size()"
   ]
  },
  {
   "cell_type": "markdown",
   "id": "632875f8-73d5-4402-ac34-df4988c75cc0",
   "metadata": {},
   "source": [
    "- Visuualização em gráfico"
   ]
  },
  {
   "cell_type": "code",
   "execution_count": 103,
   "id": "025ee8f7-2dfa-4045-a856-574ade7779f3",
   "metadata": {},
   "outputs": [
    {
     "data": {
      "image/png": "[encoded data removed]",
      "text/plain": [
       "<Figure size 640x480 with 1 Axes>"
      ]
     },
     "metadata": {},
     "output_type": "display_data"
    }
   ],
   "source": [
    "df.status_pedido.value_counts().plot(kind='bar', title='Status Pedido');"
   ]
  },
  {
   "cell_type": "markdown",
   "id": "d3510d48-beef-43fa-ad75-f3477f8aa919",
   "metadata": {},
   "source": [
    "- Quantidade de observações por Tipo de Pagamento"
   ]
  },
  {
   "cell_type": "code",
   "execution_count": 104,
   "id": "e1c03a83-b640-4d89-b910-7af4ddd89f9c",
   "metadata": {},
   "outputs": [
    {
     "data": {
      "text/plain": [
       "tipo_pagamento\n",
       "boleto         21899\n",
       "credit_card    83009\n",
       "debit_card      1640\n",
       "voucher         5944\n",
       "dtype: int64"
      ]
     },
     "execution_count": 104,
     "metadata": {},
     "output_type": "execute_result"
    }
   ],
   "source": [
    "df.groupby(['tipo_pagamento']).size()"
   ]
  },
  {
   "cell_type": "markdown",
   "id": "7f05c3d9-2ffc-40b7-9edc-0b77bcab4ac7",
   "metadata": {},
   "source": [
    "- Visualização em gráfico"
   ]
  },
  {
   "cell_type": "code",
   "execution_count": 105,
   "id": "952b3fdd-a061-4100-b794-b6cd37d3c2de",
   "metadata": {},
   "outputs": [
    {
     "data": {
      "image/png": "[encoded data removed]",
      "text/plain": [
       "<Figure size 640x480 with 1 Axes>"
      ]
     },
     "metadata": {},
     "output_type": "display_data"
    }
   ],
   "source": [
    "df.tipo_pagamento.value_counts().plot(kind='bar', title='Tipo Pagamento',color = ['#219ebc', '#023047', '#8ecae6']);"
   ]
  },
  {
   "cell_type": "markdown",
   "id": "c59450b0-f325-40d3-85c2-8a0da7df38f9",
   "metadata": {},
   "source": [
    "- Quantidade de observações por Score das Avaliações (Variável Alvo)"
   ]
  },
  {
   "cell_type": "code",
   "execution_count": 39,
   "id": "5680771d-d6b9-44fc-88cb-3d1a96cc1047",
   "metadata": {},
   "outputs": [
    {
     "data": {
      "text/plain": [
       "score_avaliacao\n",
       "1    14283\n",
       "2     3895\n",
       "3     9463\n",
       "4    21434\n",
       "5    63417\n",
       "dtype: int64"
      ]
     },
     "execution_count": 39,
     "metadata": {},
     "output_type": "execute_result"
    }
   ],
   "source": [
    "df.groupby(['score_avaliacao']).size()"
   ]
  },
  {
   "cell_type": "markdown",
   "id": "0eb04e75-28f5-4ce8-8d8e-46995032eda6",
   "metadata": {},
   "source": [
    "- Visualização em gráfico"
   ]
  },
  {
   "cell_type": "code",
   "execution_count": 41,
   "id": "76ee4608-2dd4-4c09-8bd3-def1766d15cd",
   "metadata": {},
   "outputs": [
    {
     "data": {
      "image/png": "[encoded data removed]",
      "text/plain": [
       "<Figure size 640x480 with 1 Axes>"
      ]
     },
     "metadata": {},
     "output_type": "display_data"
    }
   ],
   "source": [
    "df.score_avaliacao.value_counts().plot(kind='bar', title='Score Avaliação',color = ['#219ebc']);"
   ]
  },
  {
   "cell_type": "markdown",
   "id": "d6ac14f9-c126-47a2-9073-a83077cf25b7",
   "metadata": {},
   "source": [
    "## Discussão sobre a escolha da Variável Alvo\n",
    "A variável `score_avaliacao` foi escolhida como alvo dentro desse projeto por refletir diretamente a experiência do cliente. Dentro desse conjunto de dados, a definição de sucesso está associada a avaliações positivas após o recebimento do pedido. Cabe ressaltar a relevância da variável `status_pedido`, que também indica o sucesso na realização de uma compra e é pré-requisito para uma avaliação positiva. No entanto, `status_pedido` está mais relacionada a aspectos operacionais e logísticos, que fogem ao escopo principal deste modelo, voltado para a experiência do cliente. Dessa forma, as análises realizadas a partir deste ponto terão como foco a variável `score_avaliacao`, buscando levantar insights sobre os fatores que influenciam a satisfação do cliente.\n"
   ]
  },
  {
   "cell_type": "code",
   "execution_count": null,
   "id": "7483caee-7e40-4b7f-86d0-bb84623b3063",
   "metadata": {},
   "outputs": [],
   "source": []
  }
 ],
 "metadata": {
  "kernelspec": {
   "display_name": "Python 3 (ipykernel)",
   "language": "python",
   "name": "python3"
  },
  "language_info": {
   "codemirror_mode": {
    "name": "ipython",
    "version": 3
   },
   "file_extension": ".py",
   "mimetype": "text/x-python",
   "name": "python",
   "nbconvert_exporter": "python",
   "pygments_lexer": "ipython3",
   "version": "3.13.7"
  }
 },
 "nbformat": 4,
 "nbformat_minor": 5
}
